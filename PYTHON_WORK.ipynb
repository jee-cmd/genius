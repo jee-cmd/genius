{
  "nbformat": 4,
  "nbformat_minor": 0,
  "metadata": {
    "colab": {
      "provenance": [],
      "authorship_tag": "ABX9TyP2FEL6/cprLayY04LOXeTB",
      "include_colab_link": true
    },
    "kernelspec": {
      "name": "python3",
      "display_name": "Python 3"
    },
    "language_info": {
      "name": "python"
    }
  },
  "cells": [
    {
      "cell_type": "markdown",
      "metadata": {
        "id": "view-in-github",
        "colab_type": "text"
      },
      "source": [
        "<a href=\"https://colab.research.google.com/github/jee-cmd/genius/blob/main/PYTHON_WORK.ipynb\" target=\"_parent\"><img src=\"https://colab.research.google.com/assets/colab-badge.svg\" alt=\"Open In Colab\"/></a>"
      ]
    },
    {
      "cell_type": "code",
      "source": [
        "student=[\"s_no\",\"rollno\",\"address\"]\n",
        "print(type(\"s_no\"))\n",
        "print(type(\"roll_no\"))\n",
        "print(type(\"address\"))\n",
        "student.append(\"mobile_no\")\n",
        "print(student)"
      ],
      "metadata": {
        "colab": {
          "base_uri": "https://localhost:8080/"
        },
        "id": "ro9sKQaOJuk-",
        "outputId": "6edcde88-6af2-4170-f780-36e87d9b9967"
      },
      "execution_count": null,
      "outputs": [
        {
          "output_type": "stream",
          "name": "stdout",
          "text": [
            "<class 'str'>\n",
            "<class 'str'>\n",
            "<class 'str'>\n",
            "['s_no', 'rollno', 'address', 'mobile_no']\n"
          ]
        }
      ]
    },
    {
      "cell_type": "code",
      "source": [
        "# program to check how many times an element is repeated\n",
        "list1=[10,20,30,40,20,30]\n",
        "print(list1.count(20))"
      ],
      "metadata": {
        "colab": {
          "base_uri": "https://localhost:8080/"
        },
        "id": "oGPNBlYWMcyo",
        "outputId": "4e6f953e-503e-45d2-eacf-3efb85ddadd6"
      },
      "execution_count": null,
      "outputs": [
        {
          "output_type": "stream",
          "name": "stdout",
          "text": [
            "2\n"
          ]
        }
      ]
    },
    {
      "cell_type": "code",
      "source": [
        "#program for taking user input data and stored in list\n",
        "Cinema=[]\n",
        "for x in range(3):\n",
        "x=input(\"enter cinema \")\n",
        "cinema.append(x)\n",
        "print(movies)"
      ],
      "metadata": {
        "id": "81ZIP5gDO0K0",
        "colab": {
          "base_uri": "https://localhost:8080/",
          "height": 176
        },
        "outputId": "7eaa7dd7-8da3-4d45-971e-18c37ed7a0de"
      },
      "execution_count": null,
      "outputs": [
        {
          "output_type": "error",
          "ename": "IndentationError",
          "evalue": "expected an indented block after 'for' statement on line 3 (<ipython-input-22-f72f43a94896>, line 4)",
          "traceback": [
            "\u001b[0;36m  File \u001b[0;32m\"<ipython-input-22-f72f43a94896>\"\u001b[0;36m, line \u001b[0;32m4\u001b[0m\n\u001b[0;31m    x=input(\"enter cinema \")\u001b[0m\n\u001b[0m    ^\u001b[0m\n\u001b[0;31mIndentationError\u001b[0m\u001b[0;31m:\u001b[0m expected an indented block after 'for' statement on line 3\n"
          ]
        }
      ]
    },
    {
      "cell_type": "code",
      "source": [
        "# how to print tuple\n",
        "a=input(\"1.Enter your favourite movie\")\n",
        "print(a)\n",
        "b=input(\"2.Enter your favourite movie\")\n",
        "print(b)\n",
        "c=input(\"3.Enter your favourite movie\")\n",
        "print(c)\n",
        "mytup=(a,b,c)\n",
        "print(mytup)"
      ],
      "metadata": {
        "colab": {
          "base_uri": "https://localhost:8080/"
        },
        "id": "UxttHwyeOSLu",
        "outputId": "cab5f535-f1a0-4e19-c875-bcc3f7faa5de"
      },
      "execution_count": 1,
      "outputs": [
        {
          "output_type": "stream",
          "name": "stdout",
          "text": [
            "1.Enter your favourite moviedangal\n",
            "dangal\n",
            "2.Enter your favourite movie96\n",
            "96\n",
            "3.Enter your favourite movie3 idiots\n",
            "3 idiots\n",
            "('dangal', '96', '3 idiots')\n"
          ]
        }
      ]
    }
  ]
}