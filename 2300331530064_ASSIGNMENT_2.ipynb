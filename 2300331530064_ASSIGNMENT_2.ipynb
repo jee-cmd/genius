{
  "cells": [
    {
      "cell_type": "markdown",
      "metadata": {
        "id": "view-in-github",
        "colab_type": "text"
      },
      "source": [
        "<a href=\"https://colab.research.google.com/github/jee-cmd/genius/blob/main/2300331530064_ASSIGNMENT_2.ipynb\" target=\"_parent\"><img src=\"https://colab.research.google.com/assets/colab-badge.svg\" alt=\"Open In Colab\"/></a>"
      ]
    },
    {
      "cell_type": "code",
      "execution_count": null,
      "metadata": {
        "colab": {
          "base_uri": "https://localhost:8080/"
        },
        "id": "VcDIuqXfZIOk",
        "outputId": "a4a79352-dfae-4347-b487-72c4d4c07925"
      },
      "outputs": [
        {
          "name": "stdout",
          "output_type": "stream",
          "text": [
            "Enter number : 45\n",
            "number is odd\n"
          ]
        }
      ],
      "source": [
        "1. #Program to check number is even or odd\n",
        "x=int(input(\"Enter number : \"))\n",
        "if (x %2==0):\n",
        "  print(\"number is even\")\n",
        "else:\n",
        "  print(\"number is odd\")"
      ]
    },
    {
      "cell_type": "code",
      "execution_count": null,
      "metadata": {
        "colab": {
          "base_uri": "https://localhost:8080/"
        },
        "id": "Gwzd7dKAZuFJ",
        "outputId": "f72edd97-8967-43d5-a1e9-8f4b1165be62"
      },
      "outputs": [
        {
          "name": "stdout",
          "output_type": "stream",
          "text": [
            "Enter first number : 9\n",
            "Enter second number : 8\n",
            "Enter third number : 7\n",
            "9 is largest\n"
          ]
        }
      ],
      "source": [
        "2. #Program to find largest three numbers\n",
        "x=int(input(\"Enter first number : \"))\n",
        "y=int(input(\"Enter second number : \"))\n",
        "z=int(input(\"Enter third number : \"))\n",
        "if x>y and x>z:\n",
        "    print(x,\"is largest\")\n",
        "elif y>x and y>z:\n",
        "    print(y,\"is largest\")\n",
        "else:\n",
        "    print(z,\"is largest\")"
      ]
    },
    {
      "cell_type": "code",
      "execution_count": null,
      "metadata": {
        "colab": {
          "base_uri": "https://localhost:8080/"
        },
        "id": "QTsyVMz4afQp",
        "outputId": "77cdbbae-0d21-4530-ef00-94ba21f0b525"
      },
      "outputs": [
        {
          "name": "stdout",
          "output_type": "stream",
          "text": [
            "Enter number : 88\n",
            "88 * 1 = 88\n",
            "88 * 2 = 176\n",
            "88 * 3 = 264\n",
            "88 * 4 = 352\n",
            "88 * 5 = 440\n",
            "88 * 6 = 528\n",
            "88 * 7 = 616\n",
            "88 * 8 = 704\n",
            "88 * 9 = 792\n",
            "88 * 10 = 880\n"
          ]
        }
      ],
      "source": [
        "3. #Program to Print the Multiplication Table of a Number using a for Loop\n",
        "x=int(input(\"Enter number : \"))\n",
        "for i in range(1,11):\n",
        "  print(x,\"*\",i,\"=\",x*i)"
      ]
    },
    {
      "cell_type": "code",
      "execution_count": null,
      "metadata": {
        "id": "v3n3YCZhav25"
      },
      "outputs": [],
      "source": [
        "4. #Program to Calculate the Sum of All Numbers in a List using a for Loop\n",
        "numbers = [1, 2, 3, 4, 5]\n",
        "sum_of_numbers = 0\n",
        "for number in numbers:\n",
        "    sum_of_numbers += number\n",
        "print(\"The sum of all numbers in the list is:\", sum_of_numbers)\n",
        "\n",
        "\n",
        "\n"
      ]
    },
    {
      "cell_type": "code",
      "execution_count": null,
      "metadata": {
        "colab": {
          "base_uri": "https://localhost:8080/"
        },
        "id": "KttbPQdzoGva",
        "outputId": "196f2d93-decd-4468-eef2-7b5aac1616b0"
      },
      "outputs": [
        {
          "name": "stdout",
          "output_type": "stream",
          "text": [
            "1\n",
            "2\n",
            "3\n",
            "4\n",
            "5\n",
            "6\n",
            "7\n",
            "8\n",
            "9\n",
            "10\n"
          ]
        }
      ],
      "source": [
        "5. #Program to Print Numbers from 1 to 10 using a while Loop\n",
        "i = 1\n",
        "while i <= 10:\n",
        "    print(i)\n",
        "    i += 1"
      ]
    },
    {
      "cell_type": "code",
      "execution_count": null,
      "metadata": {
        "colab": {
          "base_uri": "https://localhost:8080/"
        },
        "id": "YtZQhGT6ob1j",
        "outputId": "ded8bbea-47f1-4dbf-a592-b97bef004396"
      },
      "outputs": [
        {
          "name": "stdout",
          "output_type": "stream",
          "text": [
            "Enter a string: aeiou\n",
            "Number of vowels in the string: 5\n"
          ]
        }
      ],
      "source": [
        "6. #Program to Count Vowels in a String using a for Loop and if Statement\n",
        "string = input(\"Enter a string: \")\n",
        "vowels = \"aeiouAEIOU\"\n",
        "count = 0\n",
        "for char in string:\n",
        "    if char in vowels:\n",
        "        count += 1\n",
        "print(\"Number of vowels in the string:\", count)\n"
      ]
    },
    {
      "cell_type": "code",
      "execution_count": null,
      "metadata": {
        "colab": {
          "base_uri": "https://localhost:8080/"
        },
        "id": "jLeVsUBHpdal",
        "outputId": "4f3b39c0-8dda-4516-cb43-ca3f188e71b4"
      },
      "outputs": [
        {
          "name": "stdout",
          "output_type": "stream",
          "text": [
            "Enter number: 5\n",
            "Factorial of the number is:  120\n"
          ]
        }
      ],
      "source": [
        "7.#Program to Find Factorial of a Number using a while Loop\n",
        "num=int(input(\"Enter number: \"))\n",
        "fact=1\n",
        "while(num>0):\n",
        "    fact=fact*num\n",
        "    num=num-1\n",
        "print(\"Factorial of the number is: \",fact)\n",
        "\n",
        "\n"
      ]
    },
    {
      "cell_type": "code",
      "execution_count": null,
      "metadata": {
        "colab": {
          "base_uri": "https://localhost:8080/"
        },
        "id": "bwxHWo4urbX8",
        "outputId": "1476170f-1caa-4443-de3d-2e7311ed772e"
      },
      "outputs": [
        {
          "name": "stdout",
          "output_type": "stream",
          "text": [
            "Enter a string: jeetisha\n",
            "Reversed string: ahsiteej\n"
          ]
        }
      ],
      "source": [
        "9. #Program to Reverse a String using a for Loop\n",
        "string = input(\"Enter a string: \")\n",
        "reversed_string = \"\"\n",
        "for i in range(len(string)-1, -1, -1):\n",
        "    reversed_string += string[i]\n",
        "print(\"Reversed string:\", reversed_string)"
      ]
    },
    {
      "cell_type": "code",
      "execution_count": null,
      "metadata": {
        "id": "P4fdOa2M_fu5"
      },
      "outputs": [],
      "source": [
        "10.\t#Program to Print Fibonacci Series using a while Loop\n",
        "def fibonacci_sequence(n):\n",
        "    \"\"\"Prints the Fibonacci sequence up to n terms.\"\"\"\n",
        "    a, b = 0, 1  # Initialize the first two terms\n",
        "    count = 0  # Counter to keep track of terms\n",
        "\n",
        "    while count < n:\n",
        "        print(a, end=\" \")  # Print the current term\n",
        "        a, b = b, a + b  # Update a and b for the next term\n",
        "        count += 1  # Increment the counter\n",
        "\n",
        "# Get the number of terms from the user\n",
        "num_terms = int(input(\"Enter the number of terms: \"))\n",
        "\n",
        "# Print the Fibonacci sequence\n",
        "print(\"Fibonacci Sequence:\")\n",
        "fibonacci_sequence(num_terms)\n",
        "\n",
        "\n"
      ]
    },
    {
      "cell_type": "code",
      "execution_count": null,
      "metadata": {
        "id": "xoUu3voXAOtF"
      },
      "outputs": [],
      "source": [
        "11.#Program to Check Armstrong Numbers in a Range\n",
        "def is_armstrong(number):\n",
        "  \"\"\"Checks if a number is an Armstrong number.\"\"\"\n",
        "  num_str = str(number)\n",
        "  num_digits = len(num_str)\n",
        "  sum_of_powers = sum(int(digit)**num_digits for digit in num_str)\n",
        "  return number == sum_of_powers\n",
        "\n",
        "# Define the range\n",
        "start_range = 100\n",
        "end_range = 1000\n",
        "\n",
        "# Check for Armstrong numbers in the range\n",
        "print(\"Armstrong numbers in the range\", start_range, \"to\", end_range, \"are:\")\n",
        "for number in range(start_range, end_range + 1):\n",
        "  if is_armstrong(number):\n",
        "    print(number)\n",
        "\n",
        "\n"
      ]
    },
    {
      "cell_type": "code",
      "execution_count": null,
      "metadata": {
        "colab": {
          "base_uri": "https://localhost:8080/"
        },
        "id": "jFRzNKT4AiiP",
        "outputId": "c68774cb-61ef-4518-d81d-0b7b65f00b36"
      },
      "outputs": [
        {
          "name": "stdout",
          "output_type": "stream",
          "text": [
            "Welcome to State bank of India\n",
            "Enter your 4 digit pin number: 1000\n",
            "Wrong pin number\n",
            "3->15,000\n",
            "4->20,000\n",
            "Enter fast cash option: 5400\n",
            "Invalid fast cash option\n"
          ]
        }
      ],
      "source": [
        "12.#Program to Implement a Basic ATM System\n",
        "print(\"Welcome to State bank of India\")\n",
        "p=int(input(\"Enter your 4 digit pin number: \"))\n",
        "m = 25000\n",
        "if(p == 1234):\n",
        "  print(\"1-Withdraw\")\n",
        "  print(\"2-Balance Enquiry\")\n",
        "  print(\"3-Fast Cash\")\n",
        "  c = int(input(\"Please choose transactions: \"))\n",
        "  if (c == 1):\n",
        "    w=int(input(\"Enter withdraw amount: \"))\n",
        "    if (w < m and w%100 == 0):\n",
        "      print(\"Please take your amount:\", w)\n",
        "    else:\n",
        "      print(\"Invalid cash\")\n",
        "  elif(c==2):\n",
        "    print(\"Your available amount : \",m)\n",
        "  elif (c == 3):\n",
        "    print(\"1->5,000\")\n",
        "    print(\"2->10,000\")\n",
        "    print(\"3->15,000\")\n",
        "    print(\"4->20,000\")\n",
        "    f = int(input(\"Enter fast cash option: \"))\n",
        "    if (f == 1 and 5000 < m):\n",
        "      print(\"please take cash 5000\")\n",
        "    elif (f == 2 and 10000 < m):\n",
        "      print(\"please take cash 10000\")\n",
        "    elif (f == 3 and 15000 < m):\n",
        "      print(\"please take cash 15000\")\n",
        "    elif (f == 4 and 20000 < m):\n",
        "      print(\"please take cash 20000\")\n",
        "    else:\n",
        "      print(\"Invalid fast cash option\")\n",
        "  else:\n",
        "    print(\"Wrong choice\")\n",
        "else:\n",
        "  print(\"Wrong pin number\")\n",
        "  print(\"3->15,000\")\n",
        "  print(\"4->20,000\")\n",
        "f = int(input(\"Enter fast cash option: \"))\n",
        "if (f == 1 and 5000 < m):\n",
        "   print(\"please take cash 5000\")\n",
        "elif (f == 2 and 10000 < m):\n",
        "   print(\"please take cash 10000\")\n",
        "elif (f == 3 and 15000 < m):\n",
        "   print(\"please take cash 15000\")\n",
        "elif (f == 4 and 20000 < m):\n",
        "  print(\"please take cash 20000\")\n",
        "else:\n",
        "  print(\"Invalid fast cash option\")"
      ]
    },
    {
      "cell_type": "code",
      "execution_count": null,
      "metadata": {
        "colab": {
          "base_uri": "https://localhost:8080/"
        },
        "id": "-Lbbox_YCRYZ",
        "outputId": "ba24868f-a27c-40ef-e225-c89a66e00cf7"
      },
      "outputs": [
        {
          "name": "stdout",
          "output_type": "stream",
          "text": [
            "      1 \n",
            "     1 1 \n",
            "    1 2 1 \n",
            "   1 3 3 1 \n",
            "  1 4 6 4 1 \n"
          ]
        }
      ],
      "source": [
        "13.#Program to print pascal's triangle\n",
        "from math import factorial\n",
        "n = 5\n",
        "for i in range(n):\n",
        "    for j in range(n-i+1):\n",
        "\n",
        "        # for left spacing\n",
        "        print(end=\" \")\n",
        "\n",
        "    for j in range(i+1):\n",
        "\n",
        "        # nCr = n!/((n-r)!*r!)\n",
        "        print(factorial(i)//(factorial(j)*factorial(i-j)), end=\" \")\n",
        "\n",
        "    # for new line\n",
        "    print()\n",
        "\n",
        "\n"
      ]
    },
    {
      "cell_type": "code",
      "execution_count": null,
      "metadata": {
        "colab": {
          "base_uri": "https://localhost:8080/"
        },
        "id": "ccYbufKWDuL-",
        "outputId": "27bebdce-4236-4b30-9934-0b1a344c19ac"
      },
      "outputs": [
        {
          "name": "stdout",
          "output_type": "stream",
          "text": [
            "string is not palindrome\n"
          ]
        }
      ],
      "source": [
        "14. #Program to Check if a String is a Palindrome\n",
        "str1= \"jeetisha\"\n",
        "reversed_string = reversed(str1)\n",
        "if(str1==reversed_string):\n",
        "  print(\"string is paplindrome\")\n",
        "else:\n",
        "   print(\"string is not palindrome\")"
      ]
    },
    {
      "cell_type": "code",
      "execution_count": null,
      "metadata": {
        "colab": {
          "base_uri": "https://localhost:8080/"
        },
        "id": "fTJiRqZRFiLg",
        "outputId": "500d96ad-a9a3-482e-a18e-a02d2b931053"
      },
      "outputs": [
        {
          "name": "stdout",
          "output_type": "stream",
          "text": [
            "enter a number: 12\n",
            "2\n",
            "2\n",
            "2\n",
            "2\n",
            "3\n",
            "5\n",
            "5\n",
            "5\n",
            "7\n",
            "7\n",
            "7\n",
            "7\n",
            "9\n",
            "11\n",
            "11\n",
            "11\n",
            "11\n"
          ]
        }
      ],
      "source": [
        "15. #Program to Generate Prime Numbers up to n\n",
        "number = int(input(\"enter a number: \"))\n",
        "\n",
        "for n in range(2, number + 1):\n",
        "    for i in range(2, number // 2):\n",
        "        if n == 2:\n",
        "            print(n)\n",
        "        elif n % i == 0:\n",
        "            break\n",
        "        else:\n",
        "            print(n)"
      ]
    },
    {
      "cell_type": "code",
      "execution_count": null,
      "metadata": {
        "colab": {
          "background_save": true,
          "base_uri": "https://localhost:8080/"
        },
        "id": "V9wK1iHfHHe1",
        "outputId": "fbfb6de5-4384-42df-ed37-595f4c6f2d10"
      },
      "outputs": [
        {
          "name": "stdout",
          "output_type": "stream",
          "text": [
            "Hi welcome to the game, This is a number guessing game.\n",
            "You got 7 chances to guess the number. Let's start the game\n",
            "Your guess is lesser\n",
            "Your guess is lesser\n",
            "Your guess is lesser\n"
          ]
        }
      ],
      "source": [
        "16. #Program to Simulate a Number Guessing Game\n",
        "import random\n",
        "\n",
        "print(\"Hi welcome to the game, This is a number guessing game.\\nYou got 7 chances to guess the number. Let's start the game\")\n",
        "\n",
        "number_to_guess = random.randrange(100)\n",
        "\n",
        "chances = 7\n",
        "\n",
        "guess_counter = 0\n",
        "\n",
        "while guess_counter < chances:\n",
        "\n",
        "    guess_counter += 1\n",
        "    my_guess = int(input('Please Enter your Guess : '))\n",
        "\n",
        "    if my_guess == number_to_guess:\n",
        "        print(f'The number is {number_to_guess} and you found it right !! in the {guess_counter} attempt')\n",
        "        break\n",
        "\n",
        "    elif guess_counter >= chances and my_guess != number_to_guess:\n",
        "        print(f'Oops sorry, The number is {number_to_guess} better luck next time')\n",
        "\n",
        "    elif my_guess > number_to_guess:\n",
        "        print('Your guess is higher ')\n",
        "\n",
        "    elif my_guess < number_to_guess:\n",
        "        print('Your guess is lesser')\n"
      ]
    },
    {
      "cell_type": "code",
      "execution_count": null,
      "metadata": {
        "id": "O8wclcZcHmtA"
      },
      "outputs": [],
      "source": [
        " 17. #Program to Find the Sum of the Digits of a Number\n",
        "def sum_digits(number):\n",
        "  \"\"\"\n",
        "  Calculates the sum of the digits of a given number.\n",
        "\n",
        "  Args:\n",
        "    number: An integer.\n",
        "\n",
        "  Returns:\n",
        "    The sum of the digits of the number.\n",
        "  \"\"\"\n",
        "  sum_of_digits = 0\n",
        "  for digit in str(number):\n",
        "    sum_of_digits += int(digit)\n",
        "  return sum_of_digits\n"
      ]
    },
    {
      "cell_type": "code",
      "execution_count": null,
      "metadata": {
        "id": "rHALsdvHIGRc"
      },
      "outputs": [],
      "source": [
        "18. #Program to Find the GCD (Greatest Common Divisor) using Euclid’s Algorithm\n",
        "def gcd(a, b):\n",
        "    \"\"\"\n",
        "    Calculates the Greatest Common Divisor (GCD) of two numbers using Euclid's Algorithm.\n",
        "\n",
        "    Args:\n",
        "        a: The first number.\n",
        "        b: The second number.\n",
        "\n",
        "    Returns:\n",
        "        The GCD of a and b.\n",
        "    \"\"\"\n",
        "    while(b):\n",
        "        a, b = b, a % b\n",
        "    return a\n",
        "\n",
        "# Get input from the user\n",
        "num1 = int(input(\"Enter first number: \"))\n",
        "num2 = int(input(\"Enter second number: \"))\n",
        "\n",
        "# Calculate and print the GCD\n",
        "result = gcd(num1, num2)\n",
        "print(\"The GCD of\", num1, \"and\", num2, \"is\", result)"
      ]
    }
  ],
  "metadata": {
    "colab": {
      "provenance": [],
      "authorship_tag": "ABX9TyPv+BNvB1jBkkZqtpB67vDe",
      "include_colab_link": true
    },
    "kernelspec": {
      "display_name": "Python 3",
      "name": "python3"
    },
    "language_info": {
      "name": "python"
    }
  },
  "nbformat": 4,
  "nbformat_minor": 0
}