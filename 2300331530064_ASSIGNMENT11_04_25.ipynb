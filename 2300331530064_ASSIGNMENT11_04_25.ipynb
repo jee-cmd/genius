{
  "nbformat": 4,
  "nbformat_minor": 0,
  "metadata": {
    "colab": {
      "provenance": [],
      "authorship_tag": "ABX9TyNI8tweoQzmJOeTMJQnylIZ",
      "include_colab_link": true
    },
    "kernelspec": {
      "name": "python3",
      "display_name": "Python 3"
    },
    "language_info": {
      "name": "python"
    }
  },
  "cells": [
    {
      "cell_type": "markdown",
      "metadata": {
        "id": "view-in-github",
        "colab_type": "text"
      },
      "source": [
        "<a href=\"https://colab.research.google.com/github/jee-cmd/genius/blob/main/2300331530064_ASSIGNMENT11_04_25.ipynb\" target=\"_parent\"><img src=\"https://colab.research.google.com/assets/colab-badge.svg\" alt=\"Open In Colab\"/></a>"
      ]
    },
    {
      "cell_type": "code",
      "execution_count": null,
      "metadata": {
        "colab": {
          "base_uri": "https://localhost:8080/"
        },
        "id": "CBWzWKNz3wSi",
        "outputId": "d159892c-03ce-43f9-afd5-6442d238c315"
      },
      "outputs": [
        {
          "output_type": "stream",
          "name": "stdout",
          "text": [
            "Enter first number : 5\n",
            "Enter second number : 6\n",
            "Sum of two numbers:  11\n"
          ]
        }
      ],
      "source": [
        "#Python program to add two numbers\n",
        "x=int(input(\"Enter first number : \"))\n",
        "y=int(input(\"Enter second number : \"))\n",
        "sum=x+y\n",
        "print(\"Sum of two numbers: \",sum)"
      ]
    },
    {
      "cell_type": "code",
      "source": [
        "#Python program to find maximum of two numbers\n",
        "x=int(input(\"Enter first number : \"))\n",
        "y=int(input(\"Enter second number : \"))\n",
        "if(x>y):\n",
        "  print(\"x is maximum number\")\n",
        "else:\n",
        "  print(\"y is maximum\")"
      ],
      "metadata": {
        "colab": {
          "base_uri": "https://localhost:8080/"
        },
        "id": "scTODSBz5qin",
        "outputId": "5eb5ba21-115f-4087-83e9-62d3c9fadfd4"
      },
      "execution_count": null,
      "outputs": [
        {
          "output_type": "stream",
          "name": "stdout",
          "text": [
            "Enter first number : 123\n",
            "Enter second number : 1000\n",
            "y is maximum\n"
          ]
        }
      ]
    },
    {
      "cell_type": "code",
      "source": [
        "#Python program to find remainder when number divided by 2\n",
        "number = int(input(\"Enter a number: \"))\n",
        "remainder = number % 2\n",
        "print(\"The remainder when\", number, \"is divided by 2 is:\", remainder)"
      ],
      "metadata": {
        "colab": {
          "base_uri": "https://localhost:8080/"
        },
        "id": "bg7yYOh-6RXX",
        "outputId": "5d9ae3a0-680f-469d-cdd3-fca91f8d591b"
      },
      "execution_count": null,
      "outputs": [
        {
          "output_type": "stream",
          "name": "stdout",
          "text": [
            "Enter a number: 354\n",
            "The remainder when 354 is divided by 2 is: 0\n"
          ]
        }
      ]
    },
    {
      "cell_type": "code",
      "source": [
        "#Python program to check the type of variable assigned using input() function\n",
        "x=input(\"Enter a value :\")\n",
        "print(type(x))"
      ],
      "metadata": {
        "colab": {
          "base_uri": "https://localhost:8080/"
        },
        "id": "InnG28FO6vaH",
        "outputId": "f8b5e91c-9b3d-4ef1-c10a-6a4b3abf30fd"
      },
      "execution_count": null,
      "outputs": [
        {
          "output_type": "stream",
          "name": "stdout",
          "text": [
            "Enter a value :34\n",
            "<class 'str'>\n"
          ]
        }
      ]
    },
    {
      "cell_type": "code",
      "source": [
        "#python program to find out whether a given variable a is greater than b or not.Take a=20 and b=60\n",
        "a = 20\n",
        "b = 60\n",
        "\n",
        "if a > b:\n",
        "    print(\"a is greater than b\")\n",
        "else:\n",
        "    print(\"a is not greater than b\")"
      ],
      "metadata": {
        "colab": {
          "base_uri": "https://localhost:8080/"
        },
        "id": "_bNJ3pJz7xOX",
        "outputId": "5c45da01-4331-4d18-a5b0-bc2f6393c2a6"
      },
      "execution_count": null,
      "outputs": [
        {
          "output_type": "stream",
          "name": "stdout",
          "text": [
            "a is not greater than b\n"
          ]
        }
      ]
    },
    {
      "cell_type": "code",
      "source": [
        "#python program to find average of two numbers entered by user\n",
        "a=int(input(\"Enter first number : \"))\n",
        "b=int(input(\"Enter second number : \"))\n",
        "avg=(a+b)/2\n",
        "print(\"Average of two numbers : \",avg)"
      ],
      "metadata": {
        "colab": {
          "base_uri": "https://localhost:8080/"
        },
        "id": "-tTwF_fv8sWH",
        "outputId": "230141f1-dc59-47d7-8445-78faacbe4a9f"
      },
      "execution_count": null,
      "outputs": [
        {
          "output_type": "stream",
          "name": "stdout",
          "text": [
            "Enter first number : 23\n",
            "Enter second number : 100\n",
            "Average of two numbers :  61.5\n"
          ]
        }
      ]
    },
    {
      "cell_type": "code",
      "source": [
        "#python program to calculate the square of number entered by user\n",
        "number = int(input(\"Enter a number: \"))\n",
        "square = number ** 2\n",
        "print(\"The square of\", number, \"is:\", square)"
      ],
      "metadata": {
        "colab": {
          "base_uri": "https://localhost:8080/"
        },
        "id": "RCpE5rOf85h_",
        "outputId": "188133e9-c6f3-4e36-8a25-d5a8274db025"
      },
      "execution_count": null,
      "outputs": [
        {
          "output_type": "stream",
          "name": "stdout",
          "text": [
            "Enter a number: 45\n",
            "The square of 45 is: 2025\n"
          ]
        }
      ]
    },
    {
      "cell_type": "code",
      "source": [
        "#python program to calculate the factorial of number\n",
        "number = int(input(\"Enter a number: \"))\n",
        "factorial = 1\n",
        "for i in range(1, number+1):\n",
        "    factorial *= i\n",
        "print(\"The factorial of\", number, \"is:\", factorial)"
      ],
      "metadata": {
        "colab": {
          "base_uri": "https://localhost:8080/"
        },
        "id": "FBSWbJbt9GsX",
        "outputId": "bcd7ab04-d405-44f7-8fa1-abc37a792823"
      },
      "execution_count": null,
      "outputs": [
        {
          "output_type": "stream",
          "name": "stdout",
          "text": [
            "Enter a number: 5\n",
            "The factorial of 5 is: 120\n"
          ]
        }
      ]
    },
    {
      "cell_type": "code",
      "source": [
        "#python program to calculate the simple interest\n",
        "principal = float(input(\"Enter the principal amount: \"))\n",
        "rate = float(input(\"Enter the interest rate: \"))\n",
        "time = float(input(\"Enter the time period in years: \"))\n",
        "simple_interest = (principal * rate * time) / 100\n",
        "print(\"The simple interest is:\", simple_interest)"
      ],
      "metadata": {
        "colab": {
          "base_uri": "https://localhost:8080/"
        },
        "id": "tt5oGpLi9QPn",
        "outputId": "a2de982e-81f9-4be4-ae65-5d23d03802c7"
      },
      "execution_count": null,
      "outputs": [
        {
          "output_type": "stream",
          "name": "stdout",
          "text": [
            "Enter the principal amount: 1005\n",
            "Enter the interest rate: 5\n",
            "Enter the time period in years: 2\n",
            "The simple interest is: 100.5\n"
          ]
        }
      ]
    },
    {
      "cell_type": "code",
      "source": [
        "#python program to calculate compound interest\n",
        "principal = float(input(\"Enter the principal amount: \"))\n",
        "rate = float(input(\"Enter the interest rate: \"))\n",
        "time = float(input(\"Enter the time period in years: \"))\n",
        "amount = principal * (1 + rate/100)**time\n",
        "compound_interest = amount - principal\n",
        "print(\"The compound interest is:\", compound_interest)"
      ],
      "metadata": {
        "colab": {
          "base_uri": "https://localhost:8080/"
        },
        "id": "5WJOwThu9xo3",
        "outputId": "9cb5fa33-a1e4-48db-c4aa-5ff58067afb8"
      },
      "execution_count": null,
      "outputs": [
        {
          "output_type": "stream",
          "name": "stdout",
          "text": [
            "Enter the principal amount: 2345\n",
            "Enter the interest rate: 12\n",
            "Enter the time period in years: 10\n",
            "The compound interest is: 4938.214048567177\n"
          ]
        }
      ]
    },
    {
      "cell_type": "code",
      "source": [
        "#python program to check the armstrong number\n",
        "number = int(input(\"Enter a number: \"))\n",
        "sum = 0\n",
        "temp = number\n",
        "while temp > 0:\n",
        "    digit = temp % 10\n",
        "    sum += digit ** 3\n",
        "    temp //= 10\n"
      ],
      "metadata": {
        "id": "SHxi9rSb9-uP"
      },
      "execution_count": null,
      "outputs": []
    },
    {
      "cell_type": "code",
      "source": [
        "#python program to find area of circle\n",
        "radius = float(input(\"Enter the radius of the circle: \"))\n",
        "area = 3.14 * radius ** 2\n",
        "print(\"The area of the circle is:\", area)\n"
      ],
      "metadata": {
        "colab": {
          "base_uri": "https://localhost:8080/"
        },
        "id": "UJjdp8w2-XeP",
        "outputId": "aba7ed26-0741-487c-e0e3-305b35bcbaba"
      },
      "execution_count": null,
      "outputs": [
        {
          "output_type": "stream",
          "name": "stdout",
          "text": [
            "Enter the radius of the circle: 35\n",
            "The area of the circle is: 3846.5\n"
          ]
        }
      ]
    },
    {
      "cell_type": "code",
      "source": [
        "#python program to check whether a number is prime or not\n",
        "number = int(input(\"Enter a number: \"))\n",
        "if number > 1:\n",
        "    for i in range(2, int(number/2)+1):\n",
        "        if (number % i) == 0:\n",
        "            print(number, \"is not a prime number\")\n",
        "            break\n"
      ],
      "metadata": {
        "colab": {
          "base_uri": "https://localhost:8080/"
        },
        "id": "zGiWLTfvAdyw",
        "outputId": "6a1d2b2d-3014-4f90-c75a-ad96f6f7ba99"
      },
      "execution_count": null,
      "outputs": [
        {
          "output_type": "stream",
          "name": "stdout",
          "text": [
            "Enter a number: 4\n",
            "4 is not a prime number\n"
          ]
        }
      ]
    },
    {
      "cell_type": "code",
      "source": [
        "#python program to print ASCII value of character\n",
        "char = input(\"Enter a character: \")\n",
        "ascii_value = ord(char)\n",
        "print(\"The ASCII value of\", char, \"is\", ascii_value)"
      ],
      "metadata": {
        "id": "YMbQhxq0Aukf"
      },
      "execution_count": null,
      "outputs": []
    },
    {
      "cell_type": "code",
      "source": [
        "#python program for cube of sum of first n natural numbers\n",
        "n = int(input(\"Enter a number: \"))\n",
        "sum = 0\n",
        "for i in range(1, n+1):\n",
        "    sum += i**3\n",
        "print(\"The cube of sum of first\", n, \"natural numbers is\", sum)\n"
      ],
      "metadata": {
        "colab": {
          "base_uri": "https://localhost:8080/"
        },
        "id": "11rJV8u51-HE",
        "outputId": "5838264c-1751-4589-b8f4-42f2ebe10419"
      },
      "execution_count": 1,
      "outputs": [
        {
          "output_type": "stream",
          "name": "stdout",
          "text": [
            "Enter a number: 4\n",
            "The cube of sum of first 4 natural numbers is 100\n"
          ]
        }
      ]
    }
  ]
}